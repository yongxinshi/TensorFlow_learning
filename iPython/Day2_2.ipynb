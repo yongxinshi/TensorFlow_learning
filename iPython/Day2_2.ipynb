{
 "cells": [
  {
   "cell_type": "code",
   "execution_count": 2,
   "metadata": {
    "collapsed": false
   },
   "outputs": [
    {
     "name": "stdout",
     "output_type": "stream",
     "text": [
      "2.3.0\n"
     ]
    }
   ],
   "source": [
    "import tensorflow as tf\n",
    "from tensorflow import keras\n",
    "\n",
    "import numpy as np\n",
    "print(tf.__version__)"
   ]
  },
  {
   "cell_type": "code",
   "execution_count": 3,
   "metadata": {
    "collapsed": true
   },
   "outputs": [],
   "source": [
    "imdb = keras.datasets.imdb\n",
    "(train_data, train_labels), (test_data, test_labels) = imdb.load_data(num_words = 10000)"
   ]
  },
  {
   "cell_type": "code",
   "execution_count": 4,
   "metadata": {
    "collapsed": false
   },
   "outputs": [
    {
     "name": "stdout",
     "output_type": "stream",
     "text": [
      "Traing entries: 25000, labels: 25000\n"
     ]
    }
   ],
   "source": [
    "print(\"Traing entries: {}, labels: {}\".format(len(train_data), len(test_data)))"
   ]
  },
  {
   "cell_type": "code",
   "execution_count": 31,
   "metadata": {
    "collapsed": true
   },
   "outputs": [],
   "source": [
    "word_index = imdb.get_word_index()\n",
    "\n",
    "word_index = {k:(v + 3) for k,v in word_index.items()}\n",
    "word_index['<PAD>'] = 0\n",
    "word_index['<START>'] = 1\n",
    "word_index['<UNK>'] = 2\n",
    "word_index['<UNUSED>'] = 3\n",
    "#reverse_word_index = dict([(value, key) for (key, value) in word_index.items()])\n",
    "\n",
    "# def decode_review(text):\n",
    "#     return ' '.join([reverse_word_index.get(i, '?') for i in text])\n",
    "reverse_word_index = dict([(value, key) for (key, value) in word_index.items()])\n",
    "\n",
    "def decode_review(text):\n",
    "    return ' '.join([reverse_word_index.get(i, '?') for i in text])"
   ]
  },
  {
   "cell_type": "code",
   "execution_count": 33,
   "metadata": {
    "collapsed": false,
    "scrolled": true
   },
   "outputs": [
    {
     "data": {
      "text/plain": [
       "\"<START> this film was just brilliant casting location scenery story direction everyone's really suited the part they played and you could just imagine being there robert <UNK> is an amazing actor and now the same being director <UNK> father came from the same scottish island as myself so i loved the fact there was a real connection with this film the witty remarks throughout the film were great it was just brilliant so much that i bought the film as soon as it was released for <UNK> and would recommend it to everyone to watch and the fly fishing was amazing really cried at the end it was so sad and you know what they say if you cry at a film it must have been good and this definitely was also <UNK> to the two little boy's that played the <UNK> of norman and paul they were just brilliant children are often left out of the <UNK> list i think because the stars that play them all grown up are such a big profile for the whole film but these children are amazing and should be praised for what they have done don't you think the whole story was so lovely because it was true and was someone's life after all that was shared with us all\""
      ]
     },
     "execution_count": 33,
     "metadata": {},
     "output_type": "execute_result"
    }
   ],
   "source": [
    "decode_review(train_data[0])"
   ]
  },
  {
   "cell_type": "code",
   "execution_count": 34,
   "metadata": {
    "collapsed": true
   },
   "outputs": [],
   "source": [
    "train_data = keras.preprocessing.sequence.pad_sequences(train_data, \n",
    "                                                        value = word_index['<PAD>'],\n",
    "                                                       padding = 'post',\n",
    "                                                       maxlen = 256)\n",
    "test_data = keras.preprocessing.sequence.pad_sequences(test_data,\n",
    "                                                      value = word_index['<PAD>'],\n",
    "                                                      padding = 'post',\n",
    "                                                      maxlen = 256)"
   ]
  },
  {
   "cell_type": "code",
   "execution_count": 35,
   "metadata": {
    "collapsed": false
   },
   "outputs": [
    {
     "name": "stdout",
     "output_type": "stream",
     "text": [
      "[   1   14   22   16   43  530  973 1622 1385   65  458 4468   66 3941\n",
      "    4  173   36  256    5   25  100   43  838  112   50  670    2    9\n",
      "   35  480  284    5  150    4  172  112  167    2  336  385   39    4\n",
      "  172 4536 1111   17  546   38   13  447    4  192   50   16    6  147\n",
      " 2025   19   14   22    4 1920 4613  469    4   22   71   87   12   16\n",
      "   43  530   38   76   15   13 1247    4   22   17  515   17   12   16\n",
      "  626   18    2    5   62  386   12    8  316    8  106    5    4 2223\n",
      " 5244   16  480   66 3785   33    4  130   12   16   38  619    5   25\n",
      "  124   51   36  135   48   25 1415   33    6   22   12  215   28   77\n",
      "   52    5   14  407   16   82    2    8    4  107  117 5952   15  256\n",
      "    4    2    7 3766    5  723   36   71   43  530  476   26  400  317\n",
      "   46    7    4    2 1029   13  104   88    4  381   15  297   98   32\n",
      " 2071   56   26  141    6  194 7486   18    4  226   22   21  134  476\n",
      "   26  480    5  144   30 5535   18   51   36   28  224   92   25  104\n",
      "    4  226   65   16   38 1334   88   12   16  283    5   16 4472  113\n",
      "  103   32   15   16 5345   19  178   32    0    0    0    0    0    0\n",
      "    0    0    0    0    0    0    0    0    0    0    0    0    0    0\n",
      "    0    0    0    0    0    0    0    0    0    0    0    0    0    0\n",
      "    0    0    0    0]\n"
     ]
    }
   ],
   "source": [
    "print(train_data[0])"
   ]
  },
  {
   "cell_type": "code",
   "execution_count": 36,
   "metadata": {
    "collapsed": false
   },
   "outputs": [
    {
     "name": "stdout",
     "output_type": "stream",
     "text": [
      "Model: \"sequential_1\"\n",
      "_________________________________________________________________\n",
      "Layer (type)                 Output Shape              Param #   \n",
      "=================================================================\n",
      "embedding_1 (Embedding)      (None, None, 16)          160000    \n",
      "_________________________________________________________________\n",
      "global_average_pooling1d_1 ( (None, 16)                0         \n",
      "_________________________________________________________________\n",
      "dense_2 (Dense)              (None, 16)                272       \n",
      "_________________________________________________________________\n",
      "dense_3 (Dense)              (None, 1)                 17        \n",
      "=================================================================\n",
      "Total params: 160,289\n",
      "Trainable params: 160,289\n",
      "Non-trainable params: 0\n",
      "_________________________________________________________________\n"
     ]
    }
   ],
   "source": [
    "vocab_size = 10000\n",
    "\n",
    "model = keras.Sequential()\n",
    "model.add(keras.layers.Embedding(vocab_size, 16))\n",
    "model.add(keras.layers.GlobalAveragePooling1D())\n",
    "model.add(keras.layers.Dense(16, activation = 'relu'))\n",
    "model.add(keras.layers.Dense(1, activation = 'sigmoid'))\n",
    "\n",
    "model.summary()"
   ]
  },
  {
   "cell_type": "code",
   "execution_count": 37,
   "metadata": {
    "collapsed": true
   },
   "outputs": [],
   "source": [
    "model.compile(optimizer = 'adam',\n",
    "             loss = 'binary_crossentropy',\n",
    "             metrics = ['accuracy'])"
   ]
  },
  {
   "cell_type": "code",
   "execution_count": 38,
   "metadata": {
    "collapsed": false
   },
   "outputs": [],
   "source": [
    "x_val = train_data[:10000]\n",
    "partial_x_train = train_data[10000:]\n",
    "\n",
    "y_val = train_labels[:10000]\n",
    "partial_y_train = train_labels[10000:]"
   ]
  },
  {
   "cell_type": "code",
   "execution_count": 39,
   "metadata": {
    "collapsed": false,
    "scrolled": true
   },
   "outputs": [
    {
     "name": "stdout",
     "output_type": "stream",
     "text": [
      "Epoch 1/40\n",
      "30/30 - 1s - loss: 0.6919 - accuracy: 0.5501 - val_loss: 0.6896 - val_accuracy: 0.7268\n",
      "Epoch 2/40\n",
      "30/30 - 1s - loss: 0.6857 - accuracy: 0.7298 - val_loss: 0.6810 - val_accuracy: 0.7309\n",
      "Epoch 3/40\n",
      "30/30 - 1s - loss: 0.6725 - accuracy: 0.7606 - val_loss: 0.6647 - val_accuracy: 0.7487\n",
      "Epoch 4/40\n",
      "30/30 - 1s - loss: 0.6501 - accuracy: 0.7811 - val_loss: 0.6394 - val_accuracy: 0.7738\n",
      "Epoch 5/40\n",
      "30/30 - 1s - loss: 0.6177 - accuracy: 0.7921 - val_loss: 0.6054 - val_accuracy: 0.7897\n",
      "Epoch 6/40\n",
      "30/30 - 1s - loss: 0.5767 - accuracy: 0.8112 - val_loss: 0.5668 - val_accuracy: 0.8031\n",
      "Epoch 7/40\n",
      "30/30 - 1s - loss: 0.5315 - accuracy: 0.8309 - val_loss: 0.5240 - val_accuracy: 0.8174\n",
      "Epoch 8/40\n",
      "30/30 - 1s - loss: 0.4858 - accuracy: 0.8441 - val_loss: 0.4840 - val_accuracy: 0.8306\n",
      "Epoch 9/40\n",
      "30/30 - 1s - loss: 0.4438 - accuracy: 0.8580 - val_loss: 0.4493 - val_accuracy: 0.8379\n",
      "Epoch 10/40\n",
      "30/30 - 1s - loss: 0.4061 - accuracy: 0.8705 - val_loss: 0.4185 - val_accuracy: 0.8496\n",
      "Epoch 11/40\n",
      "30/30 - 1s - loss: 0.3735 - accuracy: 0.8789 - val_loss: 0.3933 - val_accuracy: 0.8565\n",
      "Epoch 12/40\n",
      "30/30 - 1s - loss: 0.3458 - accuracy: 0.8877 - val_loss: 0.3730 - val_accuracy: 0.8624\n",
      "Epoch 13/40\n",
      "30/30 - 1s - loss: 0.3224 - accuracy: 0.8932 - val_loss: 0.3567 - val_accuracy: 0.8667\n",
      "Epoch 14/40\n",
      "30/30 - 1s - loss: 0.3020 - accuracy: 0.8990 - val_loss: 0.3422 - val_accuracy: 0.8709\n",
      "Epoch 15/40\n",
      "30/30 - 1s - loss: 0.2841 - accuracy: 0.9043 - val_loss: 0.3310 - val_accuracy: 0.8737\n",
      "Epoch 16/40\n",
      "30/30 - 1s - loss: 0.2683 - accuracy: 0.9081 - val_loss: 0.3221 - val_accuracy: 0.8747\n",
      "Epoch 17/40\n",
      "30/30 - 1s - loss: 0.2545 - accuracy: 0.9125 - val_loss: 0.3140 - val_accuracy: 0.8781\n",
      "Epoch 18/40\n",
      "30/30 - 1s - loss: 0.2417 - accuracy: 0.9178 - val_loss: 0.3076 - val_accuracy: 0.8799\n",
      "Epoch 19/40\n",
      "30/30 - 1s - loss: 0.2302 - accuracy: 0.9219 - val_loss: 0.3024 - val_accuracy: 0.8808\n",
      "Epoch 20/40\n",
      "30/30 - 1s - loss: 0.2196 - accuracy: 0.9258 - val_loss: 0.2989 - val_accuracy: 0.8821\n",
      "Epoch 21/40\n",
      "30/30 - 1s - loss: 0.2100 - accuracy: 0.9283 - val_loss: 0.2949 - val_accuracy: 0.8817\n",
      "Epoch 22/40\n",
      "30/30 - 1s - loss: 0.2007 - accuracy: 0.9320 - val_loss: 0.2920 - val_accuracy: 0.8837\n",
      "Epoch 23/40\n",
      "30/30 - 1s - loss: 0.1918 - accuracy: 0.9359 - val_loss: 0.2891 - val_accuracy: 0.8843\n",
      "Epoch 24/40\n",
      "30/30 - 1s - loss: 0.1841 - accuracy: 0.9395 - val_loss: 0.2884 - val_accuracy: 0.8816\n",
      "Epoch 25/40\n",
      "30/30 - 1s - loss: 0.1769 - accuracy: 0.9435 - val_loss: 0.2866 - val_accuracy: 0.8840\n",
      "Epoch 26/40\n",
      "30/30 - 1s - loss: 0.1694 - accuracy: 0.9454 - val_loss: 0.2853 - val_accuracy: 0.8853\n",
      "Epoch 27/40\n",
      "30/30 - 1s - loss: 0.1629 - accuracy: 0.9475 - val_loss: 0.2850 - val_accuracy: 0.8847\n",
      "Epoch 28/40\n",
      "30/30 - 1s - loss: 0.1567 - accuracy: 0.9511 - val_loss: 0.2847 - val_accuracy: 0.8856\n",
      "Epoch 29/40\n",
      "30/30 - 1s - loss: 0.1507 - accuracy: 0.9532 - val_loss: 0.2857 - val_accuracy: 0.8853\n",
      "Epoch 30/40\n",
      "30/30 - 1s - loss: 0.1448 - accuracy: 0.9559 - val_loss: 0.2854 - val_accuracy: 0.8858\n",
      "Epoch 31/40\n",
      "30/30 - 1s - loss: 0.1395 - accuracy: 0.9583 - val_loss: 0.2861 - val_accuracy: 0.8860\n",
      "Epoch 32/40\n",
      "30/30 - 1s - loss: 0.1340 - accuracy: 0.9603 - val_loss: 0.2882 - val_accuracy: 0.8852\n",
      "Epoch 33/40\n",
      "30/30 - 1s - loss: 0.1291 - accuracy: 0.9634 - val_loss: 0.2893 - val_accuracy: 0.8847\n",
      "Epoch 34/40\n",
      "30/30 - 1s - loss: 0.1246 - accuracy: 0.9651 - val_loss: 0.2905 - val_accuracy: 0.8847\n",
      "Epoch 35/40\n",
      "30/30 - 1s - loss: 0.1202 - accuracy: 0.9671 - val_loss: 0.2945 - val_accuracy: 0.8828\n",
      "Epoch 36/40\n",
      "30/30 - 1s - loss: 0.1172 - accuracy: 0.9667 - val_loss: 0.2952 - val_accuracy: 0.8833\n",
      "Epoch 37/40\n",
      "30/30 - 1s - loss: 0.1116 - accuracy: 0.9694 - val_loss: 0.2962 - val_accuracy: 0.8851\n",
      "Epoch 38/40\n",
      "30/30 - 1s - loss: 0.1076 - accuracy: 0.9707 - val_loss: 0.2986 - val_accuracy: 0.8854\n",
      "Epoch 39/40\n",
      "30/30 - 1s - loss: 0.1040 - accuracy: 0.9719 - val_loss: 0.3015 - val_accuracy: 0.8843\n",
      "Epoch 40/40\n",
      "30/30 - 1s - loss: 0.1000 - accuracy: 0.9733 - val_loss: 0.3038 - val_accuracy: 0.8842\n"
     ]
    }
   ],
   "source": [
    "history = model.fit(partial_x_train,\n",
    "                   partial_y_train,\n",
    "                   epochs = 40,\n",
    "                   batch_size = 512,\n",
    "                   validation_data = (x_val, y_val),\n",
    "                   verbose =2)"
   ]
  },
  {
   "cell_type": "code",
   "execution_count": 40,
   "metadata": {
    "collapsed": false
   },
   "outputs": [
    {
     "name": "stdout",
     "output_type": "stream",
     "text": [
      "782/782 - 1s - loss: 0.3237 - accuracy: 0.8739\n"
     ]
    }
   ],
   "source": [
    "results = model.evaluate(test_data, test_labels, verbose = 2)"
   ]
  },
  {
   "cell_type": "code",
   "execution_count": 41,
   "metadata": {
    "collapsed": false
   },
   "outputs": [
    {
     "data": {
      "text/plain": [
       "dict_keys(['loss', 'accuracy', 'val_loss', 'val_accuracy'])"
      ]
     },
     "execution_count": 41,
     "metadata": {},
     "output_type": "execute_result"
    }
   ],
   "source": [
    "history_dict = history.history\n",
    "history_dict.keys()"
   ]
  },
  {
   "cell_type": "code",
   "execution_count": 42,
   "metadata": {
    "collapsed": true
   },
   "outputs": [
    {
     "data": {
      "image/png": "[encoded data removed]",
      "text/plain": [
       "<Figure size 432x288 with 1 Axes>"
      ]
     },
     "metadata": {
      "needs_background": "light"
     },
     "output_type": "display_data"
    }
   ],
   "source": [
    "import matplotlib.pyplot as plt\n",
    "\n",
    "acc = history_dict['accuracy']\n",
    "val_acc = history_dict['val_accuracy']\n",
    "loss = history_dict['loss']\n",
    "val_loss = history_dict['val_loss']\n",
    "\n",
    "epochs = range(1, len(acc) + 1)\n",
    "\n",
    "plt.plot(epochs, loss, 'bo', label = 'Training loss')\n",
    "plt.plot(epochs, val_loss, 'b', label = 'Validation loss')\n",
    "plt.title(\"Training and Validation  loss\")\n",
    "plt.xlabel('Epochs')\n",
    "plt.ylabel('Loss')\n",
    "plt.legend()\n",
    "\n",
    "plt.show()"
   ]
  },
  {
   "cell_type": "code",
   "execution_count": 47,
   "metadata": {
    "collapsed": false
   },
   "outputs": [
    {
     "data": {
      "image/png": "[encoded data removed]",
      "text/plain": [
       "<Figure size 432x288 with 1 Axes>"
      ]
     },
     "metadata": {
      "needs_background": "light"
     },
     "output_type": "display_data"
    }
   ],
   "source": [
    "plt.clf()\n",
    "\n",
    "plt.plot(epochs, acc, 'bo', label = 'Training acc')\n",
    "plt.plot(epochs, val_acc, 'b', label = 'Validation acc')\n",
    "plt.title(\"Training and validation accuaray\")\n",
    "plt.xlabel(\"Epcohs\")\n",
    "plt.ylabel('accuracy')\n",
    "plt.legend()\n",
    "plt.show()\n"
   ]
  },
  {
   "cell_type": "code",
   "execution_count": null,
   "metadata": {
    "collapsed": true
   },
   "outputs": [],
   "source": []
  }
 ],
 "metadata": {
  "kernelspec": {
   "display_name": "Python 3",
   "language": "python",
   "name": "python3"
  },
  "language_info": {
   "codemirror_mode": {
    "name": "ipython",
    "version": 3
   },
   "file_extension": ".py",
   "mimetype": "text/x-python",
   "name": "python",
   "nbconvert_exporter": "python",
   "pygments_lexer": "ipython3",
   "version": "3.6.11"
  }
 },
 "nbformat": 4,
 "nbformat_minor": 4
}
